{
 "cells": [
  {
   "cell_type": "code",
   "execution_count": 10,
   "id": "ba81b635-bd6a-4fa5-b792-82a6199b59c5",
   "metadata": {},
   "outputs": [],
   "source": [
    "import pandas as pd"
   ]
  },
  {
   "cell_type": "code",
   "execution_count": 52,
   "id": "2b07109e-9d22-462e-9056-81abecb09ab3",
   "metadata": {},
   "outputs": [],
   "source": [
    "crime_df = pd.read_csv('crime_data.csv')"
   ]
  },
  {
   "cell_type": "code",
   "execution_count": 53,
   "id": "87b1fa79-e540-4726-a776-08b73fb2a634",
   "metadata": {},
   "outputs": [],
   "source": [
    "pd.set_option('display.max_columns', None)"
   ]
  },
  {
   "cell_type": "code",
   "execution_count": 55,
   "id": "0631f4f3-cf1e-4f4e-8b09-3c06dc58a986",
   "metadata": {},
   "outputs": [],
   "source": [
    "crime_df.columns = crime_df.columns.str.lower().str.replace(' ', '_')"
   ]
  },
  {
   "cell_type": "code",
   "execution_count": 56,
   "id": "a3f9db31-1dcc-4680-9e8e-1ca1b51c8eb3",
   "metadata": {
    "scrolled": true
   },
   "outputs": [
    {
     "data": {
      "text/html": [
       "<div>\n",
       "<style scoped>\n",
       "    .dataframe tbody tr th:only-of-type {\n",
       "        vertical-align: middle;\n",
       "    }\n",
       "\n",
       "    .dataframe tbody tr th {\n",
       "        vertical-align: top;\n",
       "    }\n",
       "\n",
       "    .dataframe thead th {\n",
       "        text-align: right;\n",
       "    }\n",
       "</style>\n",
       "<table border=\"1\" class=\"dataframe\">\n",
       "  <thead>\n",
       "    <tr style=\"text-align: right;\">\n",
       "      <th></th>\n",
       "      <th>dr_no</th>\n",
       "      <th>date-rptd</th>\n",
       "      <th>date-occ</th>\n",
       "      <th>time-occ</th>\n",
       "      <th>area</th>\n",
       "      <th>area-name</th>\n",
       "      <th>rpt-dist-no</th>\n",
       "      <th>part-1-2</th>\n",
       "      <th>crm-cd</th>\n",
       "      <th>crm-cd-desc</th>\n",
       "      <th>mocodes</th>\n",
       "      <th>vict-age</th>\n",
       "      <th>vict-sex</th>\n",
       "      <th>vict-descent</th>\n",
       "      <th>premis-cd</th>\n",
       "      <th>premis-desc</th>\n",
       "      <th>weapon-used-cd</th>\n",
       "      <th>weapon-desc</th>\n",
       "      <th>status</th>\n",
       "      <th>status-desc</th>\n",
       "      <th>crm-cd-1</th>\n",
       "      <th>crm-cd-2</th>\n",
       "      <th>crm-cd-3</th>\n",
       "      <th>crm-cd-4</th>\n",
       "      <th>location</th>\n",
       "      <th>cross-street</th>\n",
       "      <th>lat</th>\n",
       "      <th>lon</th>\n",
       "    </tr>\n",
       "  </thead>\n",
       "  <tbody>\n",
       "    <tr>\n",
       "      <th>0</th>\n",
       "      <td>190326475</td>\n",
       "      <td>03/01/2020 12:00:00 AM</td>\n",
       "      <td>03/01/2020 12:00:00 AM</td>\n",
       "      <td>2130</td>\n",
       "      <td>7</td>\n",
       "      <td>Wilshire</td>\n",
       "      <td>784</td>\n",
       "      <td>1</td>\n",
       "      <td>510</td>\n",
       "      <td>VEHICLE - STOLEN</td>\n",
       "      <td>NaN</td>\n",
       "      <td>0</td>\n",
       "      <td>M</td>\n",
       "      <td>O</td>\n",
       "      <td>101.0</td>\n",
       "      <td>STREET</td>\n",
       "      <td>NaN</td>\n",
       "      <td>NaN</td>\n",
       "      <td>AA</td>\n",
       "      <td>Adult Arrest</td>\n",
       "      <td>510.0</td>\n",
       "      <td>998.0</td>\n",
       "      <td>NaN</td>\n",
       "      <td>NaN</td>\n",
       "      <td>1900 S  LONGWOOD                     AV</td>\n",
       "      <td>NaN</td>\n",
       "      <td>34.0375</td>\n",
       "      <td>-118.3506</td>\n",
       "    </tr>\n",
       "  </tbody>\n",
       "</table>\n",
       "</div>"
      ],
      "text/plain": [
       "       dr_no               date-rptd                date-occ  time-occ  area  \\\n",
       "0  190326475  03/01/2020 12:00:00 AM  03/01/2020 12:00:00 AM      2130     7   \n",
       "\n",
       "  area-name  rpt-dist-no  part-1-2  crm-cd       crm-cd-desc mocodes  \\\n",
       "0  Wilshire          784         1     510  VEHICLE - STOLEN     NaN   \n",
       "\n",
       "   vict-age vict-sex vict-descent  premis-cd premis-desc  weapon-used-cd  \\\n",
       "0         0        M            O      101.0      STREET             NaN   \n",
       "\n",
       "  weapon-desc status   status-desc  crm-cd-1  crm-cd-2  crm-cd-3  crm-cd-4  \\\n",
       "0         NaN     AA  Adult Arrest     510.0     998.0       NaN       NaN   \n",
       "\n",
       "                                  location cross-street      lat       lon  \n",
       "0  1900 S  LONGWOOD                     AV          NaN  34.0375 -118.3506  "
      ]
     },
     "execution_count": 56,
     "metadata": {},
     "output_type": "execute_result"
    }
   ],
   "source": [
    "crime_df.head(1)"
   ]
  },
  {
   "cell_type": "code",
   "execution_count": 66,
   "id": "1066dec9-92ac-4943-b759-9ae772bfc871",
   "metadata": {
    "scrolled": true
   },
   "outputs": [
    {
     "data": {
      "text/plain": [
       "array(['O', 'X', 'H', 'B', 'W', nan, 'A', 'C', 'K', 'J', 'F', 'I', 'V',\n",
       "       'S', 'P', 'Z', 'G', 'U', 'D', 'L', '-'], dtype=object)"
      ]
     },
     "execution_count": 66,
     "metadata": {},
     "output_type": "execute_result"
    }
   ],
   "source": [
    "crime_df['vict-descent'].unique()\n"
   ]
  },
  {
   "cell_type": "code",
   "execution_count": 77,
   "id": "137415dc-6e51-4890-88f1-d1241b21b72c",
   "metadata": {},
   "outputs": [
    {
     "name": "stdout",
     "output_type": "stream",
     "text": [
      "Mean value excluding zeros: 37.0\n"
     ]
    }
   ],
   "source": [
    "mean_value = crime_df['vict-age'].replace(0, pd.NA).median()\n",
    "print(f\"Mean value excluding zeros: {mean_value}\")"
   ]
  },
  {
   "cell_type": "code",
   "execution_count": 79,
   "id": "d98cfffd-5071-44fb-90c2-26aa2b6e2634",
   "metadata": {},
   "outputs": [],
   "source": [
    "crime_df['vict-age'] = crime_df['vict-age'].replace(0, mean_value)"
   ]
  },
  {
   "cell_type": "code",
   "execution_count": 81,
   "id": "79c678d8-4ab3-4370-bacb-6f6c0f0eb0e1",
   "metadata": {},
   "outputs": [
    {
     "data": {
      "text/html": [
       "<div>\n",
       "<style scoped>\n",
       "    .dataframe tbody tr th:only-of-type {\n",
       "        vertical-align: middle;\n",
       "    }\n",
       "\n",
       "    .dataframe tbody tr th {\n",
       "        vertical-align: top;\n",
       "    }\n",
       "\n",
       "    .dataframe thead th {\n",
       "        text-align: right;\n",
       "    }\n",
       "</style>\n",
       "<table border=\"1\" class=\"dataframe\">\n",
       "  <thead>\n",
       "    <tr style=\"text-align: right;\">\n",
       "      <th></th>\n",
       "      <th>dr_no</th>\n",
       "      <th>date-rptd</th>\n",
       "      <th>date-occ</th>\n",
       "      <th>time-occ</th>\n",
       "      <th>area</th>\n",
       "      <th>area-name</th>\n",
       "      <th>rpt-dist-no</th>\n",
       "      <th>part-1-2</th>\n",
       "      <th>crm-cd</th>\n",
       "      <th>crm-cd-desc</th>\n",
       "      <th>mocodes</th>\n",
       "      <th>vict-age</th>\n",
       "      <th>vict-sex</th>\n",
       "      <th>vict-descent</th>\n",
       "      <th>premis-cd</th>\n",
       "      <th>premis-desc</th>\n",
       "      <th>weapon-used-cd</th>\n",
       "      <th>weapon-desc</th>\n",
       "      <th>status</th>\n",
       "      <th>status-desc</th>\n",
       "      <th>crm-cd-1</th>\n",
       "      <th>crm-cd-2</th>\n",
       "      <th>crm-cd-3</th>\n",
       "      <th>crm-cd-4</th>\n",
       "      <th>location</th>\n",
       "      <th>cross-street</th>\n",
       "      <th>lat</th>\n",
       "      <th>lon</th>\n",
       "    </tr>\n",
       "  </thead>\n",
       "  <tbody>\n",
       "    <tr>\n",
       "      <th>0</th>\n",
       "      <td>190326475</td>\n",
       "      <td>03/01/2020 12:00:00 AM</td>\n",
       "      <td>03/01/2020 12:00:00 AM</td>\n",
       "      <td>2130</td>\n",
       "      <td>7</td>\n",
       "      <td>Wilshire</td>\n",
       "      <td>784</td>\n",
       "      <td>1</td>\n",
       "      <td>510</td>\n",
       "      <td>VEHICLE - STOLEN</td>\n",
       "      <td>NaN</td>\n",
       "      <td>37</td>\n",
       "      <td>M</td>\n",
       "      <td>O</td>\n",
       "      <td>101.0</td>\n",
       "      <td>STREET</td>\n",
       "      <td>NaN</td>\n",
       "      <td>NaN</td>\n",
       "      <td>AA</td>\n",
       "      <td>Adult Arrest</td>\n",
       "      <td>510.0</td>\n",
       "      <td>998.0</td>\n",
       "      <td>NaN</td>\n",
       "      <td>NaN</td>\n",
       "      <td>1900 S  LONGWOOD                     AV</td>\n",
       "      <td>NaN</td>\n",
       "      <td>34.0375</td>\n",
       "      <td>-118.3506</td>\n",
       "    </tr>\n",
       "  </tbody>\n",
       "</table>\n",
       "</div>"
      ],
      "text/plain": [
       "       dr_no               date-rptd                date-occ  time-occ  area  \\\n",
       "0  190326475  03/01/2020 12:00:00 AM  03/01/2020 12:00:00 AM      2130     7   \n",
       "\n",
       "  area-name  rpt-dist-no  part-1-2  crm-cd       crm-cd-desc mocodes  \\\n",
       "0  Wilshire          784         1     510  VEHICLE - STOLEN     NaN   \n",
       "\n",
       "   vict-age vict-sex vict-descent  premis-cd premis-desc  weapon-used-cd  \\\n",
       "0        37        M            O      101.0      STREET             NaN   \n",
       "\n",
       "  weapon-desc status   status-desc  crm-cd-1  crm-cd-2  crm-cd-3  crm-cd-4  \\\n",
       "0         NaN     AA  Adult Arrest     510.0     998.0       NaN       NaN   \n",
       "\n",
       "                                  location cross-street      lat       lon  \n",
       "0  1900 S  LONGWOOD                     AV          NaN  34.0375 -118.3506  "
      ]
     },
     "execution_count": 81,
     "metadata": {},
     "output_type": "execute_result"
    }
   ],
   "source": [
    "crime_df.head(1)"
   ]
  },
  {
   "cell_type": "code",
   "execution_count": null,
   "id": "e10a2050-55fe-4e78-98ee-1c04e7a9d306",
   "metadata": {},
   "outputs": [],
   "source": [
    "#Clean date-occ area, -area-name,  vict age, , vict sex, weapon, status crm-all, \n",
    "#drop date-rptd, rptdistrict.nopart-1-2 crm-cd , mocodes, premis cd .weapon desc- cross street, location, "
   ]
  },
  {
   "cell_type": "code",
   "execution_count": 92,
   "id": "3f581475-c20f-4c4f-bd81-eaa24f94bc82",
   "metadata": {},
   "outputs": [],
   "source": [
    "crime_df['vict-age'] = crime_df['vict-age'].replace(120, mean_value)"
   ]
  },
  {
   "cell_type": "code",
   "execution_count": null,
   "id": "8bb76fb8-f5bb-4c1d-b7b5-7b6208ea833e",
   "metadata": {},
   "outputs": [],
   "source": [
    "#Map 1 - Crime code 1 (least serious)\n",
    "code_1_crime = crime_df"
   ]
  },
  {
   "cell_type": "code",
   "execution_count": null,
   "id": "dfb9e980-df83-401e-af5a-a11cdbcb58af",
   "metadata": {},
   "outputs": [],
   "source": [
    "#df_code2"
   ]
  },
  {
   "cell_type": "code",
   "execution_count": null,
   "id": "bfc72593-e90b-4eed-977b-695f5f27bee1",
   "metadata": {},
   "outputs": [],
   "source": [
    "#df_code3"
   ]
  },
  {
   "cell_type": "code",
   "execution_count": null,
   "id": "49c5811a-d90c-4ca9-83ba-a80537800b96",
   "metadata": {},
   "outputs": [],
   "source": [
    "#df_code4"
   ]
  },
  {
   "cell_type": "code",
   "execution_count": 169,
   "id": "9524542d-9672-48d0-aa66-51ac571bff77",
   "metadata": {},
   "outputs": [],
   "source": []
  },
  {
   "cell_type": "code",
   "execution_count": 170,
   "id": "5f89c64f-d05b-4cb8-ac74-c3aba633e828",
   "metadata": {},
   "outputs": [],
   "source": [
    "crime_df['weapon-desc'] = crime_df['weapon-desc'].replace('STRONG-ARM (HANDS, FIST, FEET OR BODILY FORCE)', 'No-weapon')"
   ]
  },
  {
   "cell_type": "code",
   "execution_count": 175,
   "id": "7b68de45-a408-4670-b8ec-2eab21bc425c",
   "metadata": {},
   "outputs": [],
   "source": [
    "crime_df['weapon-desc'] = crime_df['weapon-desc'].replace('No-weapon', 'no-weapon')"
   ]
  },
  {
   "cell_type": "code",
   "execution_count": 177,
   "id": "5338168d-002c-454d-a563-27463b2fde88",
   "metadata": {},
   "outputs": [],
   "source": [
    "crime_df['weapon-desc'] = crime_df['weapon-desc'].replace('PHYSICAL PRESENCE', 'no-weapon')"
   ]
  },
  {
   "cell_type": "code",
   "execution_count": 187,
   "id": "1abdf4c7-8c4a-467b-9396-eee0cae98adb",
   "metadata": {},
   "outputs": [],
   "source": [
    "crime_df['weapon-desc'].fillna(\"no-weapon\", inplace= True)"
   ]
  },
  {
   "cell_type": "code",
   "execution_count": 188,
   "id": "d9470bf5-c1de-4011-9992-21bafa492a1d",
   "metadata": {},
   "outputs": [
    {
     "data": {
      "text/plain": [
       "weapon-desc\n",
       "no-weapon                                        818272\n",
       "UNKNOWN WEAPON/OTHER WEAPON                       35291\n",
       "HAND GUN                                          19968\n",
       "SEMI-AUTOMATIC PISTOL                              7203\n",
       "KNIFE WITH BLADE 6INCHES OR LESS                   6802\n",
       "                                                  ...  \n",
       "MAC-11 SEMIAUTOMATIC ASSAULT WEAPON                   3\n",
       "HECKLER & KOCH 91 SEMIAUTOMATIC ASSAULT RIFLE         2\n",
       "MAC-10 SEMIAUTOMATIC ASSAULT WEAPON                   2\n",
       "M-14 SEMIAUTOMATIC ASSAULT RIFLE                      2\n",
       "M1-1 SEMIAUTOMATIC ASSAULT RIFLE                      1\n",
       "Name: count, Length: 77, dtype: int64"
      ]
     },
     "execution_count": 188,
     "metadata": {},
     "output_type": "execute_result"
    }
   ],
   "source": [
    "crime_df['weapon-desc'].value_counts()\n"
   ]
  },
  {
   "cell_type": "code",
   "execution_count": 191,
   "id": "b6aef9a3-c9cd-426c-abb2-99aaeff40fff",
   "metadata": {},
   "outputs": [
    {
     "data": {
      "text/plain": [
       "array(['no-weapon', 'VEHICLE', 'UNKNOWN WEAPON/OTHER WEAPON',\n",
       "       'BELT FLAILING INSTRUMENT/CHAIN', 'HAND GUN', 'UNKNOWN FIREARM',\n",
       "       'KNIFE WITH BLADE 6INCHES OR LESS', 'FIXED OBJECT',\n",
       "       'KITCHEN KNIFE', 'MACHETE', 'UNKNOWN TYPE CUTTING INSTRUMENT',\n",
       "       'MACE/PEPPER SPRAY', 'CLUB/BAT', 'STICK', 'OTHER KNIFE',\n",
       "       'KNIFE WITH BLADE OVER 6 INCHES IN LENGTH', 'HAMMER',\n",
       "       'AIR PISTOL/REVOLVER/RIFLE/BB GUN', 'SEMI-AUTOMATIC PISTOL',\n",
       "       'SIMULATED GUN', 'RAZOR', 'OTHER FIREARM', 'FOLDING KNIFE',\n",
       "       'PIPE/METAL PIPE', 'ROCK/THROWN OBJECT', 'RIFLE',\n",
       "       'OTHER CUTTING INSTRUMENT', 'FIRE', 'REVOLVER', 'BOTTLE',\n",
       "       'SCISSORS', 'SWITCH BLADE', 'BRASS KNUCKLES', 'BLUNT INSTRUMENT',\n",
       "       'BOARD', 'STUN GUN', 'CLEAVER', 'RAZOR BLADE', 'SCREWDRIVER',\n",
       "       'SHOTGUN', 'CONCRETE BLOCK/BRICK', 'CAUSTIC CHEMICAL/POISON',\n",
       "       'SEMI-AUTOMATIC RIFLE', 'SCALDING LIQUID', 'TIRE IRON',\n",
       "       'BOWIE KNIFE', 'GLASS', 'AXE', 'TOY GUN', 'BOMB THREAT',\n",
       "       'SAWED OFF RIFLE/SHOTGUN', 'MARTIAL ARTS WEAPONS', 'DEMAND NOTE',\n",
       "       'DIRK/DAGGER', 'ASSAULT WEAPON/UZI/AK47/ETC', 'ROPE/LIGATURE',\n",
       "       'HECKLER & KOCH 93 SEMIAUTOMATIC ASSAULT RIFLE',\n",
       "       'EXPLOXIVE DEVICE', 'SWORD', 'MAC-11 SEMIAUTOMATIC ASSAULT WEAPON',\n",
       "       'SYRINGE', 'BOW AND ARROW', 'LIQUOR/DRUGS',\n",
       "       'DOG/ANIMAL (SIC ANIMAL ON)', 'BLACKJACK', 'ICE PICK',\n",
       "       'RELIC FIREARM', 'AUTOMATIC WEAPON/SUB-MACHINE GUN',\n",
       "       'ANTIQUE FIREARM', 'HECKLER & KOCH 91 SEMIAUTOMATIC ASSAULT RIFLE',\n",
       "       'STRAIGHT RAZOR', 'M1-1 SEMIAUTOMATIC ASSAULT RIFLE',\n",
       "       'STARTER PISTOL/REVOLVER', 'UZI SEMIAUTOMATIC ASSAULT RIFLE',\n",
       "       'MAC-10 SEMIAUTOMATIC ASSAULT WEAPON',\n",
       "       'UNK TYPE SEMIAUTOMATIC ASSAULT RIFLE',\n",
       "       'M-14 SEMIAUTOMATIC ASSAULT RIFLE'], dtype=object)"
      ]
     },
     "execution_count": 191,
     "metadata": {},
     "output_type": "execute_result"
    }
   ],
   "source": [
    "crime_df['weapon-desc'].unique()"
   ]
  },
  {
   "cell_type": "code",
   "execution_count": null,
   "id": "c746e588-0bb3-4d58-ab08-da1c540dc3fa",
   "metadata": {},
   "outputs": [],
   "source": []
  },
  {
   "cell_type": "code",
   "execution_count": null,
   "id": "171272ae-184b-48c5-bdba-a0fdff0c47fe",
   "metadata": {},
   "outputs": [],
   "source": []
  },
  {
   "cell_type": "code",
   "execution_count": null,
   "id": "90911f04-b956-4aa8-960c-110d8d10774b",
   "metadata": {},
   "outputs": [],
   "source": [
    "#Economical-map\n",
    "#crime-divide for gravity-3/5 cat.\n",
    "#date and time to highlight when most crime is committed gender and age of victim/per location\n",
    "#gender and age of victim/per location\n",
    "# % of arrested criminals/divided for cat.crime \n",
    "# crime with weapon\n",
    "#divide in 4 dataset- for respective gravity code crm cd 1 etc \n",
    "\n",
    "\n",
    "\n"
   ]
  },
  {
   "cell_type": "code",
   "execution_count": null,
   "id": "dec33726-cd2b-4412-9248-50041fad6d69",
   "metadata": {},
   "outputs": [],
   "source": []
  },
  {
   "cell_type": "code",
   "execution_count": null,
   "id": "c14a6119-2885-458f-bf73-ecd6188d5bdb",
   "metadata": {},
   "outputs": [],
   "source": []
  },
  {
   "cell_type": "code",
   "execution_count": null,
   "id": "a0ab01a1-a6a3-41e1-8b81-393e8c870c7a",
   "metadata": {},
   "outputs": [],
   "source": []
  },
  {
   "cell_type": "code",
   "execution_count": null,
   "id": "f0e23b18-1c84-4f8b-880e-e766b9ce6fdf",
   "metadata": {},
   "outputs": [],
   "source": []
  },
  {
   "cell_type": "code",
   "execution_count": null,
   "id": "a2357101-ba4c-4a24-8976-379f55347321",
   "metadata": {},
   "outputs": [],
   "source": []
  },
  {
   "cell_type": "code",
   "execution_count": null,
   "id": "2dd7bba1-9249-42c8-b267-e610fbdb27e2",
   "metadata": {},
   "outputs": [],
   "source": []
  }
 ],
 "metadata": {
  "kernelspec": {
   "display_name": "Python 3 (ipykernel)",
   "language": "python",
   "name": "python3"
  },
  "language_info": {
   "codemirror_mode": {
    "name": "ipython",
    "version": 3
   },
   "file_extension": ".py",
   "mimetype": "text/x-python",
   "name": "python",
   "nbconvert_exporter": "python",
   "pygments_lexer": "ipython3",
   "version": "3.11.7"
  }
 },
 "nbformat": 4,
 "nbformat_minor": 5
}
