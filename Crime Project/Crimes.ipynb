{
 "cells": [
  {
   "cell_type": "code",
<<<<<<< main
   "execution_count": 196,
=======
   "execution_count": 1,
>>>>>>> main
   "id": "ba81b635-bd6a-4fa5-b792-82a6199b59c5",
   "metadata": {},
   "outputs": [],
   "source": [
    "import pandas as pd"
   ]
  },
  {
   "cell_type": "code",
<<<<<<< main
   "execution_count": 197,
   "id": "caa306b5-ba3d-4566-9b57-77a4e918c70b",
   "metadata": {},
   "outputs": [],
   "source": [
    "from api_key import api_key_census\n",
    "import requests\n",
    "\n",
    "#For getting median_income from API"
=======
   "execution_count": 2,
   "id": "2b07109e-9d22-462e-9056-81abecb09ab3",
   "metadata": {},
   "outputs": [],
   "source": [
    "crime_df = pd.read_csv('crime_data.csv')"
>>>>>>> main
   ]
  },
  {
   "cell_type": "code",
<<<<<<< main
   "execution_count": 198,
   "id": "2b07109e-9d22-462e-9056-81abecb09ab3",
   "metadata": {},
   "outputs": [],
   "source": [
    "crime_df = pd.read_csv('crime_data.csv')"
=======
   "execution_count": 3,
   "id": "87b1fa79-e540-4726-a776-08b73fb2a634",
   "metadata": {},
   "outputs": [],
   "source": [
    "pd.set_option('display.max_columns', None)"
>>>>>>> main
   ]
  },
  {
   "cell_type": "code",
<<<<<<< main
   "execution_count": 199,
   "id": "87b1fa79-e540-4726-a776-08b73fb2a634",
=======
   "execution_count": 4,
   "id": "0631f4f3-cf1e-4f4e-8b09-3c06dc58a986",
>>>>>>> main
   "metadata": {},
   "outputs": [],
   "source": [
    "crime_df.columns = crime_df.columns.str.lower().str.replace(' ', '_')"
   ]
  },
  {
   "cell_type": "code",
<<<<<<< main
   "execution_count": 200,
=======
   "execution_count": 5,
>>>>>>> main
   "id": "a3f9db31-1dcc-4680-9e8e-1ca1b51c8eb3",
   "metadata": {
    "scrolled": true
   },
   "outputs": [
    {
     "data": {
      "text/html": [
       "<div>\n",
       "<style scoped>\n",
       "    .dataframe tbody tr th:only-of-type {\n",
       "        vertical-align: middle;\n",
       "    }\n",
       "\n",
       "    .dataframe tbody tr th {\n",
       "        vertical-align: top;\n",
       "    }\n",
       "\n",
       "    .dataframe thead th {\n",
       "        text-align: right;\n",
       "    }\n",
       "</style>\n",
       "<table border=\"1\" class=\"dataframe\">\n",
       "  <thead>\n",
       "    <tr style=\"text-align: right;\">\n",
       "      <th></th>\n",
       "      <th>dr_no</th>\n",
       "      <th>date_rptd</th>\n",
       "      <th>date_occ</th>\n",
       "      <th>time_occ</th>\n",
       "      <th>area</th>\n",
       "      <th>area_name</th>\n",
       "      <th>rpt_dist_no</th>\n",
       "      <th>part_1-2</th>\n",
       "      <th>crm_cd</th>\n",
       "      <th>crm_cd_desc</th>\n",
       "      <th>mocodes</th>\n",
       "      <th>vict_age</th>\n",
       "      <th>vict_sex</th>\n",
       "      <th>vict_descent</th>\n",
       "      <th>premis_cd</th>\n",
       "      <th>premis_desc</th>\n",
       "      <th>weapon_used_cd</th>\n",
       "      <th>weapon_desc</th>\n",
       "      <th>status</th>\n",
       "      <th>status_desc</th>\n",
       "      <th>crm_cd_1</th>\n",
       "      <th>crm_cd_2</th>\n",
       "      <th>crm_cd_3</th>\n",
       "      <th>crm_cd_4</th>\n",
       "      <th>location</th>\n",
       "      <th>cross_street</th>\n",
       "      <th>lat</th>\n",
       "      <th>lon</th>\n",
       "    </tr>\n",
       "  </thead>\n",
       "  <tbody>\n",
       "    <tr>\n",
       "      <th>0</th>\n",
       "      <td>190326475</td>\n",
       "      <td>03/01/2020 12:00:00 AM</td>\n",
       "      <td>03/01/2020 12:00:00 AM</td>\n",
       "      <td>2130</td>\n",
       "      <td>7</td>\n",
       "      <td>Wilshire</td>\n",
       "      <td>784</td>\n",
       "      <td>1</td>\n",
       "      <td>510</td>\n",
       "      <td>VEHICLE - STOLEN</td>\n",
       "      <td>NaN</td>\n",
       "      <td>0</td>\n",
       "      <td>M</td>\n",
       "      <td>O</td>\n",
       "      <td>101.0</td>\n",
       "      <td>STREET</td>\n",
       "      <td>NaN</td>\n",
       "      <td>NaN</td>\n",
       "      <td>AA</td>\n",
       "      <td>Adult Arrest</td>\n",
       "      <td>510.0</td>\n",
       "      <td>998.0</td>\n",
       "      <td>NaN</td>\n",
       "      <td>NaN</td>\n",
       "      <td>1900 S  LONGWOOD                     AV</td>\n",
       "      <td>NaN</td>\n",
       "      <td>34.0375</td>\n",
       "      <td>-118.3506</td>\n",
       "    </tr>\n",
       "  </tbody>\n",
       "</table>\n",
       "</div>"
      ],
      "text/plain": [
       "       dr_no               date_rptd                date_occ  time_occ  area  \\\n",
       "0  190326475  03/01/2020 12:00:00 AM  03/01/2020 12:00:00 AM      2130     7   \n",
       "\n",
       "  area_name  rpt_dist_no  part_1-2  crm_cd       crm_cd_desc mocodes  \\\n",
       "0  Wilshire          784         1     510  VEHICLE - STOLEN     NaN   \n",
       "\n",
       "   vict_age vict_sex vict_descent  premis_cd premis_desc  weapon_used_cd  \\\n",
       "0         0        M            O      101.0      STREET             NaN   \n",
       "\n",
       "  weapon_desc status   status_desc  crm_cd_1  crm_cd_2  crm_cd_3  crm_cd_4  \\\n",
       "0         NaN     AA  Adult Arrest     510.0     998.0       NaN       NaN   \n",
       "\n",
       "                                  location cross_street      lat       lon  \n",
       "0  1900 S  LONGWOOD                     AV          NaN  34.0375 -118.3506  "
      ]
     },
<<<<<<< main
     "execution_count": 200,
=======
     "execution_count": 5,
>>>>>>> main
     "metadata": {},
     "output_type": "execute_result"
    }
   ],
   "source": [
<<<<<<< main
    "crime_df.head(5)"
=======
    "crime_df.head(1)"
>>>>>>> main
   ]
  },
  {
   "cell_type": "code",
<<<<<<< main
   "execution_count": 201,
   "id": "0631f4f3-cf1e-4f4e-8b09-3c06dc58a986",
   "metadata": {},
   "outputs": [],
   "source": [
    "crime_df.columns = crime.columns.str.lower().str.replace(' ', '_')"
=======
   "execution_count": 6,
   "id": "137415dc-6e51-4890-88f1-d1241b21b72c",
   "metadata": {},
   "outputs": [
    {
     "name": "stdout",
     "output_type": "stream",
     "text": [
      "Mean value excluding zeros: 37.0\n"
     ]
    }
   ],
   "source": [
    "mean_value = crime_df['vict_age'].replace(0, pd.NA).median()\n",
    "print(f\"Mean value excluding zeros: {mean_value}\")"
   ]
  },
  {
   "cell_type": "code",
   "execution_count": 7,
   "id": "d98cfffd-5071-44fb-90c2-26aa2b6e2634",
   "metadata": {},
   "outputs": [],
   "source": [
    "crime_df['vict_age'] = crime_df['vict_age'].replace((120,-4,-2, -3, -1 , 0), mean_value)"
   ]
  },
  {
   "cell_type": "code",
   "execution_count": 8,
   "id": "8a334c96-b4ec-4788-a557-598f39bbc431",
   "metadata": {},
   "outputs": [
    {
     "data": {
      "text/plain": [
       "array([37, 47, 19, 28, 41, 25, 27, 24, 26,  8,  7, 13, 56, 22, 23, 31, 30,\n",
       "       57, 12, 46, 51, 20, 29, 33, 34, 15, 65, 59,  9, 35, 50, 64, 79, 40,\n",
       "       44, 32, 16, 21, 42,  6, 72, 10, 60, 36, 18, 17,  5, 39, 62, 58, 63,\n",
       "       14, 71, 69, 49, 38, 61, 43, 45, 78, 67, 53, 54, 11, 48, 73, 52, 68,\n",
       "       81, 80,  3, 55, 89, 70, 77, 83, 91, 82, 75, 76, 74,  2, 66, 84,  4,\n",
       "       87, 86, 85, 90, 99, 96, 88, 92, 94, 93, 95, 97, 98], dtype=int64)"
      ]
     },
     "execution_count": 8,
     "metadata": {},
     "output_type": "execute_result"
    }
   ],
   "source": [
    "crime_df['vict_age'].unique()"
>>>>>>> main
   ]
  },
  {
   "cell_type": "code",
<<<<<<< main
   "execution_count": 202,
   "id": "68dad377-9616-49c2-93b4-f857782f8a94",
=======
   "execution_count": 9,
   "id": "79c678d8-4ab3-4370-bacb-6f6c0f0eb0e1",
>>>>>>> main
   "metadata": {},
   "outputs": [
    {
     "data": {
      "text/html": [
       "<div>\n",
       "<style scoped>\n",
       "    .dataframe tbody tr th:only-of-type {\n",
       "        vertical-align: middle;\n",
       "    }\n",
       "\n",
       "    .dataframe tbody tr th {\n",
       "        vertical-align: top;\n",
       "    }\n",
       "\n",
       "    .dataframe thead th {\n",
       "        text-align: right;\n",
       "    }\n",
       "</style>\n",
       "<table border=\"1\" class=\"dataframe\">\n",
       "  <thead>\n",
       "    <tr style=\"text-align: right;\">\n",
       "      <th></th>\n",
       "      <th>dr_no</th>\n",
       "      <th>date_rptd</th>\n",
       "      <th>date_occ</th>\n",
       "      <th>time_occ</th>\n",
       "      <th>area</th>\n",
       "      <th>area_name</th>\n",
       "      <th>rpt_dist_no</th>\n",
       "      <th>part_1-2</th>\n",
       "      <th>crm_cd</th>\n",
       "      <th>crm_cd_desc</th>\n",
       "      <th>mocodes</th>\n",
       "      <th>vict_age</th>\n",
       "      <th>vict_sex</th>\n",
       "      <th>vict_descent</th>\n",
       "      <th>premis_cd</th>\n",
       "      <th>premis_desc</th>\n",
       "      <th>weapon_used_cd</th>\n",
       "      <th>weapon_desc</th>\n",
       "      <th>status</th>\n",
       "      <th>status_desc</th>\n",
       "      <th>crm_cd_1</th>\n",
       "      <th>crm_cd_2</th>\n",
       "      <th>crm_cd_3</th>\n",
       "      <th>crm_cd_4</th>\n",
       "      <th>location</th>\n",
       "      <th>cross_street</th>\n",
       "      <th>lat</th>\n",
       "      <th>lon</th>\n",
       "    </tr>\n",
       "  </thead>\n",
       "  <tbody>\n",
       "    <tr>\n",
       "      <th>0</th>\n",
       "      <td>190326475</td>\n",
       "      <td>03/01/2020 12:00:00 AM</td>\n",
       "      <td>03/01/2020 12:00:00 AM</td>\n",
       "      <td>2130</td>\n",
       "      <td>7</td>\n",
       "      <td>Wilshire</td>\n",
       "      <td>784</td>\n",
       "      <td>1</td>\n",
       "      <td>510</td>\n",
       "      <td>VEHICLE - STOLEN</td>\n",
       "      <td>NaN</td>\n",
       "      <td>37</td>\n",
       "      <td>M</td>\n",
       "      <td>O</td>\n",
       "      <td>101.0</td>\n",
       "      <td>STREET</td>\n",
       "      <td>NaN</td>\n",
       "      <td>NaN</td>\n",
       "      <td>AA</td>\n",
       "      <td>Adult Arrest</td>\n",
       "      <td>510.0</td>\n",
       "      <td>998.0</td>\n",
       "      <td>NaN</td>\n",
       "      <td>NaN</td>\n",
       "      <td>1900 S  LONGWOOD                     AV</td>\n",
       "      <td>NaN</td>\n",
       "      <td>34.0375</td>\n",
       "      <td>-118.3506</td>\n",
       "    </tr>\n",
       "  </tbody>\n",
       "</table>\n",
       "</div>"
      ],
      "text/plain": [
<<<<<<< main
       "            dr_no               date_rptd                date_occ  time_occ  \\\n",
       "0       190326475  03/01/2020 12:00:00 AM  03/01/2020 12:00:00 AM      2130   \n",
       "1       200106753  02/09/2020 12:00:00 AM  02/08/2020 12:00:00 AM      1800   \n",
       "2       200320258  11/11/2020 12:00:00 AM  11/04/2020 12:00:00 AM      1700   \n",
       "3       200907217  05/10/2023 12:00:00 AM  03/10/2020 12:00:00 AM      2037   \n",
       "4       220614831  08/18/2022 12:00:00 AM  08/17/2020 12:00:00 AM      1200   \n",
       "...           ...                     ...                     ...       ...   \n",
       "944230  242106032  02/20/2024 12:00:00 AM  02/17/2024 12:00:00 AM      2330   \n",
       "944231  242004546  01/16/2024 12:00:00 AM  01/16/2024 12:00:00 AM      1510   \n",
       "944232  240104953  01/15/2024 12:00:00 AM  01/15/2024 12:00:00 AM       100   \n",
       "944233  240309674  04/24/2024 12:00:00 AM  04/24/2024 12:00:00 AM      1500   \n",
       "944234  240900704  04/29/2024 12:00:00 AM  04/29/2024 12:00:00 AM      2020   \n",
       "\n",
       "        area  area_name  rpt_dist_no  part_1-2  crm_cd  \\\n",
       "0          7   Wilshire          784         1     510   \n",
       "1          1    Central          182         1     330   \n",
       "2          3  Southwest          356         1     480   \n",
       "3          9   Van Nuys          964         1     343   \n",
       "4          6  Hollywood          666         2     354   \n",
       "...      ...        ...          ...       ...     ...   \n",
       "944230    21    Topanga         2103         1     420   \n",
       "944231    20    Olympic         2013         2     624   \n",
       "944232     1    Central          101         2     745   \n",
       "944233     3  Southwest          358         1     230   \n",
       "944234     9   Van Nuys          916         2     740   \n",
       "\n",
       "                                              crm_cd_desc  \\\n",
       "0                                        VEHICLE - STOLEN   \n",
       "1                                   BURGLARY FROM VEHICLE   \n",
       "2                                           BIKE - STOLEN   \n",
       "3                SHOPLIFTING-GRAND THEFT ($950.01 & OVER)   \n",
       "4                                       THEFT OF IDENTITY   \n",
       "...                                                   ...   \n",
       "944230    THEFT FROM MOTOR VEHICLE - PETTY ($950 & UNDER)   \n",
       "944231                           BATTERY - SIMPLE ASSAULT   \n",
       "944232           VANDALISM - MISDEAMEANOR ($399 OR UNDER)   \n",
       "944233     ASSAULT WITH DEADLY WEAPON, AGGRAVATED ASSAULT   \n",
       "944234  VANDALISM - FELONY ($400 & OVER, ALL CHURCH VA...   \n",
       "\n",
       "                              mocodes  vict_age vict_sex vict_descent  \\\n",
       "0                                 NaN         0        M            O   \n",
       "1                      1822 1402 0344        47        M            O   \n",
       "2                           0344 1251        19        X            X   \n",
       "3                           0325 1501        19        M            O   \n",
       "4                 1822 1501 0930 2004        28        M            H   \n",
       "...                               ...       ...      ...          ...   \n",
       "944230                           0385        44        F            O   \n",
       "944231  2047 0400 0429 0444 1202 1822        80        F            O   \n",
       "944232                 0329 0400 0416         0        X            X   \n",
       "944233  1822 0334 0416 0445 0449 1202        70        F            W   \n",
       "944234       0342 0329 1402 0311 1822        37        M            H   \n",
       "\n",
       "        premis_cd                                   premis_desc  \\\n",
       "0           101.0                                        STREET   \n",
       "1           128.0             BUS STOP/LAYOVER (ALSO QUERY 124)   \n",
       "2           502.0  MULTI-UNIT DWELLING (APARTMENT, DUPLEX, ETC)   \n",
       "3           405.0                                CLOTHING STORE   \n",
       "4           102.0                                      SIDEWALK   \n",
       "...           ...                                           ...   \n",
       "944230      104.0                                      DRIVEWAY   \n",
       "944231      124.0                                      BUS STOP   \n",
       "944232      503.0                                         HOTEL   \n",
       "944233      102.0                                      SIDEWALK   \n",
       "944234      122.0                      VEHICLE, PASSENGER/TRUCK   \n",
       "\n",
       "        weapon_used_cd                                     weapon_desc status  \\\n",
       "0                  NaN                                             NaN     AA   \n",
       "1                  NaN                                             NaN     IC   \n",
       "2                  NaN                                             NaN     IC   \n",
       "3                  NaN                                             NaN     IC   \n",
       "4                  NaN                                             NaN     IC   \n",
       "...                ...                                             ...    ...   \n",
       "944230             NaN                                             NaN     IC   \n",
       "944231           400.0  STRONG-ARM (HANDS, FIST, FEET OR BODILY FORCE)     IC   \n",
       "944232           500.0                     UNKNOWN WEAPON/OTHER WEAPON     IC   \n",
       "944233           308.0                                           STICK     IC   \n",
       "944234             NaN                                             NaN     IC   \n",
       "\n",
       "         status_desc  crm_cd_1  crm_cd_2  crm_cd_3  crm_cd_4  \\\n",
       "0       Adult Arrest     510.0     998.0       NaN       NaN   \n",
       "1        Invest Cont     330.0     998.0       NaN       NaN   \n",
       "2        Invest Cont     480.0       NaN       NaN       NaN   \n",
       "3        Invest Cont     343.0       NaN       NaN       NaN   \n",
       "4        Invest Cont     354.0       NaN       NaN       NaN   \n",
       "...              ...       ...       ...       ...       ...   \n",
       "944230   Invest Cont     420.0       NaN       NaN       NaN   \n",
       "944231   Invest Cont     624.0       NaN       NaN       NaN   \n",
       "944232   Invest Cont     745.0       NaN       NaN       NaN   \n",
       "944233   Invest Cont     230.0       NaN       NaN       NaN   \n",
       "944234   Invest Cont     740.0     998.0       NaN       NaN   \n",
=======
       "       dr_no               date_rptd                date_occ  time_occ  area  \\\n",
       "0  190326475  03/01/2020 12:00:00 AM  03/01/2020 12:00:00 AM      2130     7   \n",
       "\n",
       "  area_name  rpt_dist_no  part_1-2  crm_cd       crm_cd_desc mocodes  \\\n",
       "0  Wilshire          784         1     510  VEHICLE - STOLEN     NaN   \n",
>>>>>>> main
       "\n",
       "   vict_age vict_sex vict_descent  premis_cd premis_desc  weapon_used_cd  \\\n",
       "0        37        M            O      101.0      STREET             NaN   \n",
       "\n",
<<<<<<< main
       "                           cross_street      lat       lon  \n",
       "0                                   NaN  34.0375 -118.3506  \n",
       "1                                   NaN  34.0444 -118.2628  \n",
       "2                                   NaN  34.0210 -118.3002  \n",
       "3                                   NaN  34.1576 -118.4387  \n",
       "4                                   NaN  34.0944 -118.3277  \n",
       "...                                 ...      ...       ...  \n",
       "944230                              NaN  34.2260 -118.6214  \n",
       "944231  3RD                          ST  34.0690 -118.3054  \n",
       "944232                              NaN  34.0685 -118.2460  \n",
       "944233  JEFFERSON                    BL  34.0215 -118.2868  \n",
       "944234                              NaN  34.1939 -118.4400  \n",
=======
       "  weapon_desc status   status_desc  crm_cd_1  crm_cd_2  crm_cd_3  crm_cd_4  \\\n",
       "0         NaN     AA  Adult Arrest     510.0     998.0       NaN       NaN   \n",
>>>>>>> main
       "\n",
       "                                  location cross_street      lat       lon  \n",
       "0  1900 S  LONGWOOD                     AV          NaN  34.0375 -118.3506  "
      ]
     },
     "execution_count": 202,
     "metadata": {},
     "output_type": "execute_result"
    }
   ],
   "source": [
<<<<<<< main
    "crime_df"
=======
    "crime_df.head(1)"
>>>>>>> main
   ]
  },
  {
   "cell_type": "code",
<<<<<<< main
   "execution_count": 203,
   "id": "9a4d28be-793c-40ed-8efd-26a6d31ee03a",
   "metadata": {},
   "outputs": [],
   "source": [
    "crime_df[\"date_rptd\"] = crime_df[\"date_rptd\"].str.split().str[0]"
   ]
  },
  {
   "cell_type": "code",
   "execution_count": 205,
   "id": "eafdfcef-c181-4b7f-94c5-bec53b28b8f8",
   "metadata": {},
   "outputs": [],
   "source": [
    "crime_df[\"date_rptd\"] = pd.to_datetime(crime_df[\"date_rptd\"], format=\"%m/%d/%Y\")"
   ]
  },
  {
   "cell_type": "code",
   "execution_count": 218,
   "id": "563c4f2d-e9af-4405-8330-0cfb0dec7672",
   "metadata": {},
   "outputs": [
    {
     "name": "stdout",
     "output_type": "stream",
     "text": [
      "<class 'pandas.core.frame.DataFrame'>\n",
      "RangeIndex: 944235 entries, 0 to 944234\n",
      "Data columns (total 28 columns):\n",
      " #   Column          Non-Null Count   Dtype         \n",
      "---  ------          --------------   -----         \n",
      " 0   dr_no           944235 non-null  int64         \n",
      " 1   date_rptd       944235 non-null  datetime64[ns]\n",
      " 2   date_occ        944235 non-null  object        \n",
      " 3   time_occ        944235 non-null  int64         \n",
      " 4   area            944235 non-null  int64         \n",
      " 5   area_name       944235 non-null  object        \n",
      " 6   rpt_dist_no     944235 non-null  int64         \n",
      " 7   part_1-2        944235 non-null  int64         \n",
      " 8   crm_cd          944235 non-null  int64         \n",
      " 9   crm_cd_desc     944235 non-null  object        \n",
      " 10  mocodes         811136 non-null  object        \n",
      " 11  vict_age        944235 non-null  int64         \n",
      " 12  vict_sex        817640 non-null  object        \n",
      " 13  vict_descent    817630 non-null  object        \n",
      " 14  premis_cd       944225 non-null  float64       \n",
      " 15  premis_desc     943668 non-null  object        \n",
      " 16  weapon_used_cd  324477 non-null  float64       \n",
      " 17  weapon_desc     324477 non-null  object        \n",
      " 18  status          944235 non-null  object        \n",
      " 19  status_desc     944235 non-null  object        \n",
      " 20  crm_cd_1        944224 non-null  float64       \n",
      " 21  crm_cd_2        68258 non-null   float64       \n",
      " 22  crm_cd_3        2281 non-null    float64       \n",
      " 23  crm_cd_4        64 non-null      float64       \n",
      " 24  location        944235 non-null  object        \n",
      " 25  cross_street    147592 non-null  object        \n",
      " 26  lat             944235 non-null  float64       \n",
      " 27  lon             944235 non-null  float64       \n",
      "dtypes: datetime64[ns](1), float64(8), int64(7), object(12)\n",
      "memory usage: 201.7+ MB\n"
     ]
    }
   ],
   "source": [
    "crime_df.info()"
   ]
  },
  {
   "cell_type": "code",
   "execution_count": 220,
   "id": "c258c498-b311-49e3-8b07-f706601d8028",
   "metadata": {},
   "outputs": [],
   "source": [
    "#Add new colimn: month\n",
    "crime_df['year'] = crime_df['date_rptd'].dt.year"
   ]
  },
  {
   "cell_type": "code",
   "execution_count": 228,
   "id": "75cd13ce-188d-4643-9228-b7b865de0807",
   "metadata": {},
   "outputs": [],
   "source": [
    "crime_df[\"vict_sex\"] = crime_df[\"vict_sex\"].str.replace(\"H\", \"X\").str.replace(\"-\", \"X\")"
=======
   "execution_count": 10,
   "id": "e10a2050-55fe-4e78-98ee-1c04e7a9d306",
   "metadata": {},
   "outputs": [],
   "source": [
    "#Clean date-occ area, -area-name,  vict age, , vict sex, weapon, status crm-all, \n",
    "#drop date-rptd, rptdistrict.nopart-1-2 crm-cd , mocodes, premis cd .weapon desc- cross street, location, "
>>>>>>> main
   ]
  },
  {
   "cell_type": "code",
   "execution_count": 13,
   "id": "3f581475-c20f-4c4f-bd81-eaa24f94bc82",
   "metadata": {},
   "outputs": [],
   "source": []
  },
  {
   "cell_type": "code",
   "execution_count": null,
   "id": "bfc72593-e90b-4eed-977b-695f5f27bee1",
   "metadata": {},
   "outputs": [],
   "source": [
    "#df_code3"
   ]
  },
  {
   "cell_type": "code",
   "execution_count": null,
   "id": "49c5811a-d90c-4ca9-83ba-a80537800b96",
   "metadata": {},
   "outputs": [],
   "source": [
    "#df_code4"
   ]
  },
  {
   "cell_type": "code",
   "execution_count": 169,
   "id": "9524542d-9672-48d0-aa66-51ac571bff77",
   "metadata": {},
   "outputs": [],
   "source": []
  },
  {
   "cell_type": "code",
   "execution_count": 13,
   "id": "5f89c64f-d05b-4cb8-ac74-c3aba633e828",
   "metadata": {},
   "outputs": [],
   "source": [
    "crime_df['weapon_desc'] = crime_df['weapon_desc'].replace('STRONG-ARM (HANDS, FIST, FEET OR BODILY FORCE)', 'no-weapon')"
   ]
  },
  {
   "cell_type": "code",
   "execution_count": 15,
   "id": "7b68de45-a408-4670-b8ec-2eab21bc425c",
   "metadata": {},
   "outputs": [],
   "source": [
    "crime_df['weapon_desc'] = crime_df['weapon_desc'].replace('No-weapon', 'no-weapon')"
   ]
  },
  {
   "cell_type": "code",
   "execution_count": 16,
   "id": "5338168d-002c-454d-a563-27463b2fde88",
   "metadata": {},
   "outputs": [],
   "source": [
    "crime_df['weapon_desc'] = crime_df['weapon_desc'].replace('PHYSICAL PRESENCE', 'no-weapon')"
   ]
  },
  {
   "cell_type": "code",
   "execution_count": 17,
   "id": "1abdf4c7-8c4a-467b-9396-eee0cae98adb",
   "metadata": {},
   "outputs": [],
   "source": [
    "crime_df['weapon_desc'].fillna(\"no-weapon\", inplace= True)"
   ]
  },
  {
   "cell_type": "code",
   "execution_count": 188,
   "id": "d9470bf5-c1de-4011-9992-21bafa492a1d",
   "metadata": {},
   "outputs": [
    {
     "data": {
      "text/plain": [
       "weapon-desc\n",
       "no-weapon                                        818272\n",
       "UNKNOWN WEAPON/OTHER WEAPON                       35291\n",
       "HAND GUN                                          19968\n",
       "SEMI-AUTOMATIC PISTOL                              7203\n",
       "KNIFE WITH BLADE 6INCHES OR LESS                   6802\n",
       "                                                  ...  \n",
       "MAC-11 SEMIAUTOMATIC ASSAULT WEAPON                   3\n",
       "HECKLER & KOCH 91 SEMIAUTOMATIC ASSAULT RIFLE         2\n",
       "MAC-10 SEMIAUTOMATIC ASSAULT WEAPON                   2\n",
       "M-14 SEMIAUTOMATIC ASSAULT RIFLE                      2\n",
       "M1-1 SEMIAUTOMATIC ASSAULT RIFLE                      1\n",
       "Name: count, Length: 77, dtype: int64"
      ]
     },
     "execution_count": 188,
     "metadata": {},
     "output_type": "execute_result"
    }
   ],
   "source": [
    "crime_df['weapon-desc'].value_counts()\n"
   ]
  },
  {
   "cell_type": "code",
   "execution_count": 18,
   "id": "b6aef9a3-c9cd-426c-abb2-99aaeff40fff",
   "metadata": {},
   "outputs": [
    {
     "data": {
      "text/plain": [
       "array(['no-weapon', 'VEHICLE', 'UNKNOWN WEAPON/OTHER WEAPON',\n",
       "       'VERBAL THREAT', 'BELT FLAILING INSTRUMENT/CHAIN', 'HAND GUN',\n",
       "       'UNKNOWN FIREARM', 'KNIFE WITH BLADE 6INCHES OR LESS',\n",
       "       'FIXED OBJECT', 'KITCHEN KNIFE', 'MACHETE',\n",
       "       'UNKNOWN TYPE CUTTING INSTRUMENT', 'MACE/PEPPER SPRAY', 'CLUB/BAT',\n",
       "       'STICK', 'OTHER KNIFE', 'KNIFE WITH BLADE OVER 6 INCHES IN LENGTH',\n",
       "       'HAMMER', 'AIR PISTOL/REVOLVER/RIFLE/BB GUN',\n",
       "       'SEMI-AUTOMATIC PISTOL', 'SIMULATED GUN', 'RAZOR', 'OTHER FIREARM',\n",
       "       'FOLDING KNIFE', 'PIPE/METAL PIPE', 'ROCK/THROWN OBJECT', 'RIFLE',\n",
       "       'OTHER CUTTING INSTRUMENT', 'FIRE', 'REVOLVER', 'BOTTLE',\n",
       "       'SCISSORS', 'SWITCH BLADE', 'BRASS KNUCKLES', 'BLUNT INSTRUMENT',\n",
       "       'BOARD', 'STUN GUN', 'CLEAVER', 'RAZOR BLADE', 'SCREWDRIVER',\n",
       "       'SHOTGUN', 'CONCRETE BLOCK/BRICK', 'CAUSTIC CHEMICAL/POISON',\n",
       "       'SEMI-AUTOMATIC RIFLE', 'SCALDING LIQUID', 'TIRE IRON',\n",
       "       'BOWIE KNIFE', 'GLASS', 'AXE', 'TOY GUN', 'BOMB THREAT',\n",
       "       'SAWED OFF RIFLE/SHOTGUN', 'MARTIAL ARTS WEAPONS', 'DEMAND NOTE',\n",
       "       'DIRK/DAGGER', 'ASSAULT WEAPON/UZI/AK47/ETC', 'ROPE/LIGATURE',\n",
       "       'HECKLER & KOCH 93 SEMIAUTOMATIC ASSAULT RIFLE',\n",
       "       'EXPLOXIVE DEVICE', 'SWORD', 'MAC-11 SEMIAUTOMATIC ASSAULT WEAPON',\n",
       "       'SYRINGE', 'BOW AND ARROW', 'LIQUOR/DRUGS',\n",
       "       'DOG/ANIMAL (SIC ANIMAL ON)', 'BLACKJACK', 'ICE PICK',\n",
       "       'RELIC FIREARM', 'AUTOMATIC WEAPON/SUB-MACHINE GUN',\n",
       "       'ANTIQUE FIREARM', 'HECKLER & KOCH 91 SEMIAUTOMATIC ASSAULT RIFLE',\n",
       "       'STRAIGHT RAZOR', 'M1-1 SEMIAUTOMATIC ASSAULT RIFLE',\n",
       "       'STARTER PISTOL/REVOLVER', 'UZI SEMIAUTOMATIC ASSAULT RIFLE',\n",
       "       'MAC-10 SEMIAUTOMATIC ASSAULT WEAPON',\n",
       "       'UNK TYPE SEMIAUTOMATIC ASSAULT RIFLE',\n",
       "       'M-14 SEMIAUTOMATIC ASSAULT RIFLE'], dtype=object)"
      ]
     },
     "execution_count": 18,
     "metadata": {},
     "output_type": "execute_result"
    }
   ],
   "source": [
    "crime_df['weapon_desc'].unique()"
   ]
  },
  {
   "cell_type": "code",
   "execution_count": null,
   "id": "c746e588-0bb3-4d58-ab08-da1c540dc3fa",
   "metadata": {},
   "outputs": [],
   "source": []
  },
  {
   "cell_type": "code",
   "execution_count": null,
   "id": "171272ae-184b-48c5-bdba-a0fdff0c47fe",
   "metadata": {},
   "outputs": [],
   "source": []
  },
  {
   "cell_type": "code",
   "execution_count": null,
   "id": "90911f04-b956-4aa8-960c-110d8d10774b",
   "metadata": {},
   "outputs": [],
   "source": [
    "#Economical-map\n",
    "#crime-divide for gravity-3/5 cat.\n",
    "#date and time to highlight when most crime is committed gender and age of victim/per location\n",
    "#gender and age of victim/per location\n",
    "# % of arrested criminals/divided for cat.crime \n",
    "# crime with weapon\n",
<<<<<<< main
    "#divide in 4 dataset- for respective gravity code crm cd 1 etc "
=======
    "#divide in 4 dataset- for respective gravity code crm cd 1 etc \n",
    "\n",
    "\n",
    "\n"
>>>>>>> main
   ]
  },
  {
   "cell_type": "code",
<<<<<<< main
   "execution_count": 44,
   "id": "2dd7bba1-9249-42c8-b267-e610fbdb27e2",
=======
   "execution_count": null,
   "id": "dec33726-cd2b-4412-9248-50041fad6d69",
   "metadata": {},
   "outputs": [],
   "source": []
  },
  {
   "cell_type": "code",
   "execution_count": null,
   "id": "c14a6119-2885-458f-bf73-ecd6188d5bdb",
   "metadata": {},
   "outputs": [],
   "source": []
  },
  {
   "cell_type": "code",
   "execution_count": null,
   "id": "a0ab01a1-a6a3-41e1-8b81-393e8c870c7a",
   "metadata": {},
   "outputs": [],
   "source": []
  },
  {
   "cell_type": "code",
   "execution_count": null,
   "id": "f0e23b18-1c84-4f8b-880e-e766b9ce6fdf",
   "metadata": {},
   "outputs": [],
   "source": []
  },
  {
   "cell_type": "code",
   "execution_count": null,
   "id": "a2357101-ba4c-4a24-8976-379f55347321",
>>>>>>> main
   "metadata": {},
   "outputs": [
    {
     "name": "stdout",
     "output_type": "stream",
     "text": [
      "https://api.census.gov/data/2019/acs/acs5?get=NAME,B19013_001E&for=county subdivision:*&in=state:06 county:037&key=c8ece4d4c8d1f906496a288719673264f36c2dd2\n",
      "                                                NAME B19013_001E state county  \\\n",
      "0        Newhall CCD, Los Angeles County, California      102716    06    037   \n",
      "1   Palos Verdes CCD, Los Angeles County, California      117750    06    037   \n",
      "2  Downey-Norwalk CCD, Los Angeles County, Califo...       70795    06    037   \n",
      "3       Whittier CCD, Los Angeles County, California       76938    06    037   \n",
      "4  South Gate-East Los Angeles CCD, Los Angeles C...       46492    06    037   \n",
      "\n",
      "  county subdivision  \n",
      "0              92110  \n",
      "1              92360  \n",
      "2              90730  \n",
      "3              93730  \n",
      "4              93155  \n"
     ]
    }
   ],
   "source": [
    "#API getting medin_income by diision\n",
    "\n",
    "# Your Census API key\n",
    "api_key = api_key_census\n",
    "# API endpoint for the American Community Survey (ACS)\n",
    "base_url = 'https://api.census.gov/data/2019/acs/acs5'\n",
    "# Variables to retrieve (e.g., median household income)\n",
    "variables = ['NAME', 'B19013_001E']\n",
    "# Specify the geographic area (Los Angeles County, CA)\n",
    "for_clause = 'county subdivision:*'\n",
    "in_clause = 'state:06 county:037'\n",
    "# Construct the full API request URL\n",
    "print(f\"{base_url}?get={','.join(variables)}&for={for_clause}&in={in_clause}&key={api_key}\")\n",
    "api_url = f\"{base_url}?get={','.join(variables)}&for={for_clause}&in={in_clause}&key={api_key}\"\n",
    "# Make the GET request to the Census API\n",
    "response = requests.get(api_url)\n",
    "# Check if the request was successful\n",
    "if response.status_code == 200:\n",
    "    # Parse the JSON response into a DataFrame\n",
    "    data = response.json()\n",
    "    df = pd.DataFrame(data[1:], columns=data[0])\n",
    "    # Display the first few rows of the DataFrame\n",
    "    print(df.head())\n",
    "else:\n",
    "    print(f\"Failed to retrieve data. Status code: {response.status_code}\")\n",
    "# Optional: Save the data to a CSV file\n",
    "df.to_csv('average_income_by_district.csv', index=False)"
   ]
  },
  {
   "cell_type": "code",
   "execution_count": null,
   "id": "1af10381-e8ec-41d8-9ca0-3d4ba434b49a",
   "metadata": {},
   "outputs": [],
   "source": []
  }
 ],
 "metadata": {
  "kernelspec": {
   "display_name": "Python 3 (ipykernel)",
   "language": "python",
   "name": "python3"
  },
  "language_info": {
   "codemirror_mode": {
    "name": "ipython",
    "version": 3
   },
   "file_extension": ".py",
   "mimetype": "text/x-python",
   "name": "python",
   "nbconvert_exporter": "python",
   "pygments_lexer": "ipython3",
   "version": "3.11.7"
  }
 },
 "nbformat": 4,
 "nbformat_minor": 5
}
